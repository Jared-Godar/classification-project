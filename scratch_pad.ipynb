{
 "cells": [
  {
   "cell_type": "code",
   "execution_count": null,
   "id": "bcd83f17",
   "metadata": {},
   "outputs": [],
   "source": []
  },
  {
   "cell_type": "markdown",
   "id": "ec9bee5d",
   "metadata": {},
   "source": [
    "8.-13. online_security, online_backup, device_protection, tech_support, streaming_tv, streaming_movies - These will be encoded with boolean values. \"Yes\" = 1, \"No/No internet service\" = 0. Although there is a slight distinction between \"No\" and \"No internet service\", the latter will be captured when \"DSL\" and \"Fiber Optic\" are both 0."
   ]
  },
  {
   "cell_type": "markdown",
   "id": "e52a6dc4",
   "metadata": {},
   "source": [
    "multiple_lines - this field currently has Yes, No, and No Phone Service. There is a slight distinction between \"No\" and \"No Phone Service\", but these can be combined into a single encoded value for \"No\", as the phone_service field already captures if the customer has \"No Phone Service\". This field will be encoded into \"Yes\" = 1 and \"No/No Phone Service\" = 0."
   ]
  },
  {
   "cell_type": "code",
   "execution_count": null,
   "id": "9214397d",
   "metadata": {},
   "outputs": [],
   "source": [
    "telco_original.multiple_lines.unique()\n"
   ]
  },
  {
   "cell_type": "markdown",
   "id": "87169117",
   "metadata": {},
   "source": [
    "internet_service_type_id - currently 1 = \"DSL\", 2 = \"Fiber Optic\", and 3 = \"None\". This will be encoded by new dummy variables for \"DSL\" and \"Fiber Optic\" with numeric boolean values. There is no need to encode for \"None\", as this will be captured when both \"DSL\" and \"Fiber Optic\" are 0.\n"
   ]
  },
  {
   "cell_type": "markdown",
   "id": "8988f6ac",
   "metadata": {},
   "source": []
  },
  {
   "cell_type": "code",
   "execution_count": null,
   "id": "5a7bfc72",
   "metadata": {},
   "outputs": [],
   "source": [
    "plt.figure('figure', figsize=(13, 10))\n",
    "plt.title(\"Tenure in months vs Rate of Churn\", fontsize=17)\n",
    "ax = sns.lineplot(x=\"tenure\", y=\"churn_encoded\", data=train)\n",
    "plt.ylabel('Churn Rate')"
   ]
  },
  {
   "cell_type": "markdown",
   "id": "5325e3d0",
   "metadata": {},
   "source": [
    "Create Evaluation DataFrame¶\n"
   ]
  },
  {
   "cell_type": "code",
   "execution_count": null,
   "id": "1a52a690",
   "metadata": {},
   "outputs": [],
   "source": [
    "# Create eval_df and rename the train survived column actual.\n",
    "train_eval_df = train[['survived']].rename(columns={'survived': 'actual'})\n",
    "\n",
    "# Add your baseline predictions.\n",
    "train_eval_df['baseline'] = 0\n",
    "\n",
    "# Predict whether a passenger will survive using the X_train data; add column to eval_df\n",
    "train_eval_df['LR1_predicted'] = logit.predict(X_train)\n",
    "\n",
    "# Estimate the probability of a passenger surviving using the X_train data; add col to eval_df\n",
    "\n",
    "train_eval_df['LR1_proba'] = logit.predict_proba(X_train)[:, 1]\n",
    "\n",
    "train_eval_df.head()"
   ]
  },
  {
   "cell_type": "markdown",
   "id": "a3ac031b",
   "metadata": {},
   "source": [
    "Create evaluation DataFrame for validate dataset¶\n"
   ]
  },
  {
   "cell_type": "markdown",
   "id": "16c967a6",
   "metadata": {},
   "source": [
    "# Create eval_df and rename survived column actual.\n",
    "val_eval_df = validate[['survived']].rename(columns={'survived': 'actual'})\n",
    "\n",
    "# Add your baseline predictions.\n",
    "val_eval_df['baseline'] = 0\n",
    "\n",
    "# Predict whether a passenger will survive using the training data; add column to eval_df\n",
    "val_eval_df['LR1_predicted'] = logit.predict(X_validate)\n",
    "\n",
    "# Estimate the probability of a passenger surviving using the training data; add col to eval_df\n",
    "\n",
    "val_eval_df['LR1_proba'] = logit.predict_proba(X_validate)[:, 1]\n",
    "\n",
    "val_eval_df.head()"
   ]
  },
  {
   "cell_type": "code",
   "execution_count": null,
   "id": "9802db12",
   "metadata": {},
   "outputs": [],
   "source": []
  },
  {
   "cell_type": "code",
   "execution_count": null,
   "id": "41ed9c07",
   "metadata": {},
   "outputs": [],
   "source": []
  }
 ],
 "metadata": {
  "kernelspec": {
   "display_name": "Python 3",
   "language": "python",
   "name": "python3"
  },
  "language_info": {
   "codemirror_mode": {
    "name": "ipython",
    "version": 3
   },
   "file_extension": ".py",
   "mimetype": "text/x-python",
   "name": "python",
   "nbconvert_exporter": "python",
   "pygments_lexer": "ipython3",
   "version": "3.8.8"
  }
 },
 "nbformat": 4,
 "nbformat_minor": 5
}
