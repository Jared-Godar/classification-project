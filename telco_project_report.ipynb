{
 "cells": [
  {
   "cell_type": "markdown",
   "id": "d4e2939e",
   "metadata": {},
   "source": [
    "# Predicting Customer Churn"
   ]
  },
  {
   "cell_type": "markdown",
   "id": "d5f8e127",
   "metadata": {},
   "source": [
    "by Jared Godar 2021-11-29"
   ]
  },
  {
   "cell_type": "markdown",
   "id": "b4776813",
   "metadata": {},
   "source": [
    "---"
   ]
  },
  {
   "cell_type": "markdown",
   "id": "0aa9b9a5",
   "metadata": {},
   "source": [
    "## Project Goal\n",
    "\n",
    "This project aims to use historical customer data to build a classification model to predict what customers are likely to churn to identify drivers of churn to devise better customer retention strategies.\n",
    "\n",
    "## Project Description\n",
    "\n",
    "Acquiring new customers is expensive. Between marketing costs and initial offers and promotions, a significant investment is made in bringing a customer to Telco, Inc. We are losing too many customers to our competitors and having to find new customers to replace them. Here we will analyze the attributes of customers who leave and stay, develop a model to predict churn based on those attributes, make recommendations to increase customer retention, and provide a list of current customers and their predicted likelihood to churn.\n",
    "\n",
    "## Initial Questions\n",
    "\n",
    "What factors increase churn?\n",
    "\n",
    "What factors increase retention?\n",
    "\n",
    "Are there factors that don't matter?\n",
    "\n",
    "Do monthly charges influence churn?\n",
    "\n"
   ]
  },
  {
   "cell_type": "markdown",
   "id": "fc3d508f",
   "metadata": {},
   "source": [
    "---"
   ]
  },
  {
   "cell_type": "markdown",
   "id": "cd4fe207",
   "metadata": {},
   "source": [
    "## Data Dictionary"
   ]
  },
  {
   "cell_type": "markdown",
   "id": "0740c24b",
   "metadata": {},
   "source": [
    "|Target|Datatype|Definition|\n",
    "|:-------|:--------|:----------|\n",
    "| churn_encoded | int64 | 0: Customer retained 1: Customer Churned|\n",
    "\n",
    "\n",
    "</br>\n",
    "</br>\n",
    "\n",
    "</br>\n",
    "\n",
    "\n",
    "|Feature|Datatype|Definition|\n",
    "|:-------|:--------|:----------|\n",
    "| senior_citizen       | int64 |    0: Not Senior 1: Senior |\n",
    "| monthly_charges        | float64 |    month;y charges in dollars |\n",
    "| tenure       |  int64 |    tenure in months |\n",
    "| paperless_billing_encoded        | int64 |    0: no paperless billing 1:paperless billing |\n",
    "| internet_service_type_Fiber optic        | uint8 |    0: No fiber 1: fiber |\n",
    "| payment_type_Electronic check        | uint8 |    0: no e-check 1:e-check |"
   ]
  },
  {
   "cell_type": "markdown",
   "id": "1605018a",
   "metadata": {},
   "source": [
    "---"
   ]
  },
  {
   "cell_type": "markdown",
   "id": "ddfdb05a",
   "metadata": {},
   "source": [
    "## Import Libraries\n",
    "\n",
    "Here we import the various functions, modules, and libraries necessary.\n",
    "\n"
   ]
  },
  {
   "cell_type": "code",
   "execution_count": 1,
   "id": "4cfb4d76",
   "metadata": {},
   "outputs": [],
   "source": [
    "import pandas as pd\n",
    "import numpy as np\n",
    "import matplotlib.pyplot as plt\n",
    "import math\n",
    "\n",
    "# import splitting and imputing functions\n",
    "from sklearn.model_selection import train_test_split\n",
    "from sklearn.impute import SimpleImputer\n",
    "\n",
    "# turn off pink boxes for demo\n",
    "import warnings\n",
    "warnings.filterwarnings(\"ignore\")\n",
    "\n",
    "# import our own acquire module\n",
    "import telcoacquire\n",
    "\n",
    "# Remove limits on viewing dataframes\n",
    "pd.set_option('display.max_columns', None)"
   ]
  },
  {
   "cell_type": "markdown",
   "id": "4e6947ed",
   "metadata": {},
   "source": [
    "---"
   ]
  },
  {
   "cell_type": "markdown",
   "id": "6d4804b0",
   "metadata": {},
   "source": [
    "## Wrangle Telco Dat\n",
    "\n",
    "To acquire the titanic data, I used the `telco_churn` datbase on the Codeup server, selecting all columns from the `customers` table and joining the `contract_type_id`, `internet_service_types`, and `payment_type_id` tables with the following query:\n",
    "\n",
    "    select * from customers\n",
    "                join contract_types using (contract_type_id)\n",
    "                join internet_service_types using (internet_service_type_id)\n",
    "                join payment_types using (payment_type_id)"
   ]
  },
  {
   "cell_type": "code",
   "execution_count": 2,
   "id": "45bb26fc",
   "metadata": {},
   "outputs": [],
   "source": [
    "# Acquire data from the sql database telco_churn\n",
    "\n",
    "telco_df = telcoacquire.new_telco_data()"
   ]
  },
  {
   "cell_type": "markdown",
   "id": "f0e2237d",
   "metadata": {},
   "source": [
    "---"
   ]
  },
  {
   "cell_type": "markdown",
   "id": "54327636",
   "metadata": {},
   "source": [
    "## Data Cleaning\n",
    "\n",
    "To clean the data, I did the following:\n",
    "\n",
    "1. Dropped Columns\n",
    "    - *Duplicates:* Since `payment_type_id` duplicates `payment_type`, `internet_service_type_id` duplicates `internet_service_type`, and `contract_type_id` duplicates `contract_type`, we only need one column of each pair. Drop the `_id` columns\n",
    "2. Dropped Rows\n",
    "    - There were 11 new customers with null values for total charges\n",
    "    - Since these customers have not had an opportunity to churn, they offer no predictive value and were fropped from the dataset\n",
    "3. Changed the `total_charges` column data type from `object` to `float`.\n",
    "4. Created Dummy Variables for object data types\n",
    "    - Columns with two options were assigned a new encoded column with the values `0` or `1` (`gender`, `partner`, `dependents`, `phonse_service`, `paperless_billing`, `churn`)\n",
    "    - Columns with more than two options were one-hot encoded (`multiple_lines`, `online_security`, `online_backup`, `device_protection`, `tech_support`, `streaming_tv`, `streaming_movies`, `contract_type`, `internet_service_type`, `payment_type`)\n",
    "5. Encoding created some redundant columns `no_phone` `no_internet`. Since this information was captured elsewhere, these columns were also dropped."
   ]
  },
  {
   "cell_type": "code",
   "execution_count": 3,
   "id": "565a1aa2",
   "metadata": {},
   "outputs": [],
   "source": [
    "import telco_prepare\n",
    "\n",
    "telco_df=telco_prepare.prep_telco(telco_df)"
   ]
  },
  {
   "cell_type": "markdown",
   "id": "7c1afcba",
   "metadata": {},
   "source": [
    "---"
   ]
  },
  {
   "cell_type": "markdown",
   "id": "4e993641",
   "metadata": {},
   "source": [
    "## Split the data\n",
    "\n",
    "Data will be split into a training, validation, and test data set:\n",
    "    - *Train* Perform exploratory analysis and construct models\n",
    "    - *Validate* verify models are not overfit to training data\n",
    "    - *Test* used only once with the best model to approximate how the model will perform on new data"
   ]
  },
  {
   "cell_type": "code",
   "execution_count": 4,
   "id": "240a3871",
   "metadata": {},
   "outputs": [],
   "source": [
    "telco_train, telco_validate, telco_test=telco_prepare.split_telco(telco_df)"
   ]
  },
  {
   "cell_type": "markdown",
   "id": "95a5cada",
   "metadata": {},
   "source": [
    "---"
   ]
  },
  {
   "cell_type": "markdown",
   "id": "7f28af24",
   "metadata": {},
   "source": [
    "## Data Dictionary\n",
    "\n",
    "|Target|Datatype|Definition|\n",
    "|:-------|:--------|:----------|\n",
    "| churn_encoded | int64 | 0: Customer retained 1: Customer Churned|\n",
    "\n",
    "\n",
    "</br>\n",
    "</br>\n",
    "\n",
    "</br>\n",
    "\n",
    "\n",
    "|Feature|Datatype|Definition|\n",
    "|:-------|:--------|:----------|\n",
    "| senior_citizen       | int64 |    0: Not Senior 1: Senior |\n",
    "| monthly_charges        | float64 |    month;y charges in dollars |\n",
    "| tenure       | 150 non-null: int64 |    tenure in months |\n",
    "| paperless_billing_encoded        | int64 |    i0: no paperless billing 1:paperless billing |\n",
    "| internet_service_type_Fiber optic        | uint8 |    0: No fiber 1: fiber |\n",
    "| payment_type_Electronic check        | uint8 |    0: no e-check 1:e-check |"
   ]
  },
  {
   "cell_type": "markdown",
   "id": "e0c645ac",
   "metadata": {},
   "source": [
    "---"
   ]
  },
  {
   "cell_type": "markdown",
   "id": "d5576c5d",
   "metadata": {},
   "source": [
    "## Exploratory Analysis"
   ]
  },
  {
   "cell_type": "markdown",
   "id": "3fa1ce0f",
   "metadata": {},
   "source": [
    "### Question 1: What factors increase churn?"
   ]
  },
  {
   "cell_type": "code",
   "execution_count": 6,
   "id": "4d17fb6e",
   "metadata": {},
   "outputs": [],
   "source": [
    "# Configure plots\n",
    "\n",
    "import seaborn as sns\n",
    "\n",
    "\n",
    "plt.rc('font', size=14)\n",
    "plt.rc('figure', figsize=(14, 10))"
   ]
  },
  {
   "cell_type": "code",
   "execution_count": 10,
   "id": "12e32900",
   "metadata": {},
   "outputs": [],
   "source": [
    "# Import stats and set confindence interval\n",
    "\n",
    "import scipy.stats as stats\n",
    "\n",
    "conf_interval = 0.95\n",
    "alpha = 1 - conf_interval"
   ]
  },
  {
   "cell_type": "code",
   "execution_count": 8,
   "id": "7d115b99",
   "metadata": {},
   "outputs": [],
   "source": [
    "# Create dataframes of customers who churned and did not churn\n",
    "\n",
    "churn = telco_train[telco_train['churn_encoded'] == 1]\n",
    "no_churn = telco_train[telco_train['churn_encoded'] == 0]"
   ]
  },
  {
   "cell_type": "code",
   "execution_count": 129,
   "id": "a21b4fab",
   "metadata": {},
   "outputs": [
    {
     "data": {
      "text/plain": [
       "Text(0.5, 0, 'Churned')"
      ]
     },
     "execution_count": 129,
     "metadata": {},
     "output_type": "execute_result"
    },
    {
     "data": {
      "image/png": "[encoded data removed]",
      "text/plain": [
       "<Figure size 1008x720 with 1 Axes>"
      ]
     },
     "metadata": {
      "needs_background": "light"
     },
     "output_type": "display_data"
    }
   ],
   "source": [
    "# Plot overall churn rate\n",
    "\n",
    "colors=['green', 'red']\n",
    "telco_train.churn_encoded.value_counts().sort_index().plot.bar(color=['green', 'red'])\n",
    "churn_rate = telco_train.churn_encoded.mean()\n",
    "plt.title(f\"FIgure 1: Overall churn rate: {churn_rate:.2%}\")\n",
    "plt.xlabel('Churned')"
   ]
  },
  {
   "cell_type": "code",
   "execution_count": 140,
   "id": "b42c8328",
   "metadata": {},
   "outputs": [
    {
     "data": {
      "image/png": "[encoded data removed]",
      "text/plain": [
       "<Figure size 1152x576 with 3 Axes>"
      ]
     },
     "metadata": {
      "needs_background": "light"
     },
     "output_type": "display_data"
    }
   ],
   "source": [
    "features = ['senior_citizen', 'internet_service_type_Fiber optic',  'paperless_billing_encoded']\n",
    "\n",
    "colors =['green','red']\n",
    "chi2 = [110, 371, 142]\n",
    "\n",
    "\n",
    "\n",
    "fig, ax = plt.subplots(nrows=1, ncols=3, figsize=(16, 8), sharey=True)\n",
    "fig.suptitle('Figure 2: Factors that increase churn', fontsize=20, fontweight='bold') \n",
    "for i, feature in enumerate(features):\n",
    "    sns.barplot(feature, 'churn_encoded', data=telco_train, ax=ax[i], palette=colors)\n",
    "    ax[i].text(x = -.3, y=.45, s=f'$\\chi^2$ = {chi2[i]}, p = 0.0000')\n",
    "\n",
    "    ax[i].set_xlabel('')\n",
    "    ax[i].set_ylabel('Churn Rate')\n",
    "    ax[i].set_title(feature)\n",
    "    ax[i].axhline(churn_rate, ls='--', color='grey')\n"
   ]
  },
  {
   "cell_type": "markdown",
   "id": "50b1a754",
   "metadata": {},
   "source": [
    "### Question 2: What features increase retention?"
   ]
  },
  {
   "cell_type": "code",
   "execution_count": 139,
   "id": "81cbbbc8",
   "metadata": {},
   "outputs": [
    {
     "data": {
      "image/png": "[encoded data removed]",
      "text/plain": [
       "<Figure size 1152x576 with 3 Axes>"
      ]
     },
     "metadata": {
      "needs_background": "light"
     },
     "output_type": "display_data"
    }
   ],
   "source": [
    "features = ['contract_type_One year', 'contract_type_Two year', 'internet_service_type_None']\n",
    "\n",
    "colors =['green', 'red']\n",
    "chi2b = [140, 9, 210]\n",
    "pb = [0.0000, 0.0035, 0.0000]\n",
    "\n",
    "\n",
    "fig, ax = plt.subplots(nrows=1, ncols=3, figsize=(16, 8), sharey=True)\n",
    "fig.suptitle('Figure 3: Factors that decrease churn', fontsize=20, fontweight='bold') \n",
    "for i, feature in enumerate(features):\n",
    "    sns.barplot(feature, 'churn_encoded', data=telco_train, ax=ax[i], palette=colors)\n",
    "    ax[i].text(x = 0.2, y=.35, s=f'$\\chi^2$ = {chi2b[i]}, p={pb[i]:.4f}')\n",
    "\n",
    "    ax[i].set_xlabel('')\n",
    "    ax[i].set_ylabel('Churn Rate')\n",
    "    ax[i].set_title(feature)\n",
    "    ax[i].axhline(churn_rate, ls='--', color='grey')\n",
    "\n"
   ]
  },
  {
   "cell_type": "markdown",
   "id": "47e8fd2e",
   "metadata": {},
   "source": [
    "### Question 3: What features don't influence churn"
   ]
  },
  {
   "cell_type": "code",
   "execution_count": 142,
   "id": "7d5d2793",
   "metadata": {},
   "outputs": [
    {
     "data": {
      "image/png": "[encoded data removed]",
      "text/plain": [
       "<Figure size 1152x576 with 3 Axes>"
      ]
     },
     "metadata": {
      "needs_background": "light"
     },
     "output_type": "display_data"
    }
   ],
   "source": [
    "features = ['gender_encoded','phone_service_encoded', 'streaming_tv_Yes']\n",
    "\n",
    "colors =['gray', 'gray']\n",
    "colors2=['red', 'green']\n",
    "chi2c = [.1102, .0193, 13.2359]\n",
    "pc = [0.7399, 0.8895, 0.0003]\n",
    "\n",
    "\n",
    "\n",
    "fig, ax = plt.subplots(nrows=1, ncols=3, figsize=(16, 8), sharey=True)\n",
    "fig.suptitle(\"Figure 4: Factors that don't* matter\", fontsize=20, fontweight='bold') \n",
    "for i, feature in enumerate(features):\n",
    "    if i == 2:\n",
    "        colors=['green', 'red']\n",
    "    sns.barplot(feature, 'churn_encoded', data=telco_train, ax=ax[i], palette=colors)\n",
    "    ax[i].text(x = 0.2, y=.32, s=f'$\\chi^2$ = {chi2c[i]}, p={pc[i]:.4f}')\n",
    "\n",
    "    ax[i].set_xlabel('')\n",
    "    ax[i].set_ylabel('Churn Rate')\n",
    "    ax[i].set_title(feature)\n",
    "    ax[i].axhline(churn_rate, ls='--', color='grey')\n",
    "    "
   ]
  },
  {
   "cell_type": "markdown",
   "id": "32065c1b",
   "metadata": {},
   "source": [
    "## Question 4: Is there a corrolation between monthly charges and churn rate?"
   ]
  },
  {
   "cell_type": "code",
   "execution_count": 148,
   "id": "69030204",
   "metadata": {},
   "outputs": [
    {
     "data": {
      "image/png": "[encoded data removed]",
      "text/plain": [
       "<Figure size 720x432 with 1 Axes>"
      ]
     },
     "metadata": {
      "needs_background": "light"
     },
     "output_type": "display_data"
    }
   ],
   "source": [
    "import matplotlib.pylab as plt\n",
    "import seaborn as sns\n",
    "import numpy as np\n",
    "\n",
    "\n",
    "fig = plt.figure(figsize=(10,6))\n",
    "plt.title('Figure 5: Distribution of Monthly Charges by Churn')\n",
    "sns.histplot(data=churn['monthly_charges'], stat='probability', color = 'red', alpha=0.5, label='Churn')\n",
    "sns.histplot(data=no_churn['monthly_charges'], stat='probability', color='green', alpha=0.5, label='No Churn')\n",
    "fig.legend(labels=['Churn','No Churn'])\n",
    "plt.text(x = 30, y=.25, s=f'Kruskal-Wallis H = 131, p = 0.0000')\n",
    "plt.show;"
   ]
  },
  {
   "cell_type": "code",
   "execution_count": 145,
   "id": "80046629",
   "metadata": {},
   "outputs": [
    {
     "data": {
      "text/plain": [
       "KruskalResult(statistic=130.80822711455886, pvalue=2.7272064616213124e-30)"
      ]
     },
     "execution_count": 145,
     "metadata": {},
     "output_type": "execute_result"
    }
   ],
   "source": [
    "import scipy\n",
    "\n",
    "scipy.stats.kruskal(churn.monthly_charges, no_churn.monthly_charges)"
   ]
  },
  {
   "cell_type": "markdown",
   "id": "8242d1fd",
   "metadata": {},
   "source": [
    "---"
   ]
  },
  {
   "cell_type": "markdown",
   "id": "8e515dee",
   "metadata": {},
   "source": [
    "## Statistical Tests"
   ]
  },
  {
   "cell_type": "markdown",
   "id": "bdf80a10",
   "metadata": {},
   "source": [
    "### Do seniors churn at a different rate?\n",
    "\n",
    "$H_0$: Churn independent of senior status\n",
    "\n",
    "$H_1$: Churn dependent on senior status\n",
    "\n",
    "Create Observation Table\n",
    "\n",
    "Use $\\Chi^2$ to determine whether there is a statistically significant difference between the expected frequencies and the observed frequencies in one or more categories of a contingency table."
   ]
  },
  {
   "cell_type": "code",
   "execution_count": 14,
   "id": "75d43625",
   "metadata": {},
   "outputs": [
    {
     "data": {
      "text/html": [
       "<div>\n",
       "<style scoped>\n",
       "    .dataframe tbody tr th:only-of-type {\n",
       "        vertical-align: middle;\n",
       "    }\n",
       "\n",
       "    .dataframe tbody tr th {\n",
       "        vertical-align: top;\n",
       "    }\n",
       "\n",
       "    .dataframe thead th {\n",
       "        text-align: right;\n",
       "    }\n",
       "</style>\n",
       "<table border=\"1\" class=\"dataframe\">\n",
       "  <thead>\n",
       "    <tr style=\"text-align: right;\">\n",
       "      <th></th>\n",
       "      <th>Senior=1</th>\n",
       "      <th>Senior=0</th>\n",
       "    </tr>\n",
       "  </thead>\n",
       "  <tbody>\n",
       "    <tr>\n",
       "      <th>Churn</th>\n",
       "      <td>280</td>\n",
       "      <td>766</td>\n",
       "    </tr>\n",
       "    <tr>\n",
       "      <th>No Churn</th>\n",
       "      <td>367</td>\n",
       "      <td>2524</td>\n",
       "    </tr>\n",
       "  </tbody>\n",
       "</table>\n",
       "</div>"
      ],
      "text/plain": [
       "          Senior=1  Senior=0\n",
       "Churn          280       766\n",
       "No Churn       367      2524"
      ]
     },
     "execution_count": 14,
     "metadata": {},
     "output_type": "execute_result"
    }
   ],
   "source": [
    "# Make observation table\n",
    "\n",
    "index = ['Churn', 'No Churn']\n",
    "columns = ['Senior=1', 'Senior=0']\n",
    "\n",
    "senior_observed = pd.DataFrame([[churn.senior_citizen.value_counts()[1], churn.senior_citizen.value_counts()[0]], [no_churn.senior_citizen.value_counts()[1], no_churn.senior_citizen.value_counts()[0]]], index=index, columns=columns)\n",
    "senior_observed\n"
   ]
  },
  {
   "cell_type": "code",
   "execution_count": 15,
   "id": "da78ab12",
   "metadata": {},
   "outputs": [
    {
     "name": "stdout",
     "output_type": "stream",
     "text": [
      "Observed\n",
      "\n",
      "[[ 280  766]\n",
      " [ 367 2524]]\n",
      "---\n",
      "Expected\n",
      "\n",
      "[[ 171.8978918  874.1021082]\n",
      " [ 475.1021082 2415.8978918]]\n",
      "---\n",
      "\n",
      "chi^2 = 109.7635\n",
      "p     = 0.0000\n",
      "We can reject the null hypothesis\n"
     ]
    }
   ],
   "source": [
    "senior_chi2, senior_p, senior_degf, senior_expected = stats.chi2_contingency(senior_observed)\n",
    "\n",
    "print('Observed\\n')\n",
    "print(senior_observed.values)\n",
    "print('---\\nExpected\\n')\n",
    "print(senior_expected)\n",
    "print('---\\n')\n",
    "print(f'chi^2 = {senior_chi2:.4f}')\n",
    "print(f'p     = {senior_p:.4f}')\n",
    "if senior_p < alpha:\n",
    "      print('We can reject the null hypothesis')\n",
    "else:\n",
    "    print('We fail to reject the null hypothesis')"
   ]
  },
  {
   "cell_type": "markdown",
   "id": "0de4a742",
   "metadata": {},
   "source": [
    "### Are churn and fiber optic independent?\n",
    "\n",
    "$H_0$: Churn and fiber optic internet are independent\n",
    "\n",
    "$H_1$: Churn and Fiber are dependent\n",
    "\n",
    "Create Observation Table\n",
    "\n",
    "Use $\\Chi^2$ to determine whether there is a statistically significant difference between the expected frequencies and the observed frequencies in one or more categories of a contingency table."
   ]
  },
  {
   "cell_type": "code",
   "execution_count": 16,
   "id": "589f4b2d",
   "metadata": {},
   "outputs": [
    {
     "data": {
      "text/html": [
       "<div>\n",
       "<style scoped>\n",
       "    .dataframe tbody tr th:only-of-type {\n",
       "        vertical-align: middle;\n",
       "    }\n",
       "\n",
       "    .dataframe tbody tr th {\n",
       "        vertical-align: top;\n",
       "    }\n",
       "\n",
       "    .dataframe thead th {\n",
       "        text-align: right;\n",
       "    }\n",
       "</style>\n",
       "<table border=\"1\" class=\"dataframe\">\n",
       "  <thead>\n",
       "    <tr style=\"text-align: right;\">\n",
       "      <th></th>\n",
       "      <th>Fiber=1</th>\n",
       "      <th>Fiber=0</th>\n",
       "    </tr>\n",
       "  </thead>\n",
       "  <tbody>\n",
       "    <tr>\n",
       "      <th>Churn</th>\n",
       "      <td>716</td>\n",
       "      <td>330</td>\n",
       "    </tr>\n",
       "    <tr>\n",
       "      <th>No Churn</th>\n",
       "      <td>982</td>\n",
       "      <td>1901</td>\n",
       "    </tr>\n",
       "  </tbody>\n",
       "</table>\n",
       "</div>"
      ],
      "text/plain": [
       "          Fiber=1  Fiber=0\n",
       "Churn         716      330\n",
       "No Churn      982     1901"
      ]
     },
     "execution_count": 16,
     "metadata": {},
     "output_type": "execute_result"
    }
   ],
   "source": [
    "# Make observation table\n",
    "\n",
    "index = ['Churn', 'No Churn']\n",
    "columns = ['Fiber=1', 'Fiber=0']\n",
    "\n",
    "fiber_observed = pd.DataFrame([[716, 330], [982, 1901]], index=index, columns=columns)\n",
    "fiber_observed"
   ]
  },
  {
   "cell_type": "code",
   "execution_count": 17,
   "id": "03a43dd1",
   "metadata": {},
   "outputs": [
    {
     "data": {
      "text/html": [
       "<div>\n",
       "<style scoped>\n",
       "    .dataframe tbody tr th:only-of-type {\n",
       "        vertical-align: middle;\n",
       "    }\n",
       "\n",
       "    .dataframe tbody tr th {\n",
       "        vertical-align: top;\n",
       "    }\n",
       "\n",
       "    .dataframe thead th {\n",
       "        text-align: right;\n",
       "    }\n",
       "</style>\n",
       "<table border=\"1\" class=\"dataframe\">\n",
       "  <thead>\n",
       "    <tr style=\"text-align: right;\">\n",
       "      <th></th>\n",
       "      <th>Fiber=1</th>\n",
       "      <th>Fiber=0</th>\n",
       "    </tr>\n",
       "  </thead>\n",
       "  <tbody>\n",
       "    <tr>\n",
       "      <th>Churn</th>\n",
       "      <td>716</td>\n",
       "      <td>330</td>\n",
       "    </tr>\n",
       "    <tr>\n",
       "      <th>No Churn</th>\n",
       "      <td>982</td>\n",
       "      <td>1909</td>\n",
       "    </tr>\n",
       "  </tbody>\n",
       "</table>\n",
       "</div>"
      ],
      "text/plain": [
       "          Fiber=1  Fiber=0\n",
       "Churn         716      330\n",
       "No Churn      982     1909"
      ]
     },
     "execution_count": 17,
     "metadata": {},
     "output_type": "execute_result"
    }
   ],
   "source": [
    "# Make observation table\n",
    "\n",
    "index = ['Churn', 'No Churn']\n",
    "columns = ['Fiber=1', 'Fiber=0']\n",
    "\n",
    "fiber_observed = pd.DataFrame([[churn['internet_service_type_Fiber optic'].value_counts()[1], churn['internet_service_type_Fiber optic'].value_counts()[0]], [no_churn['internet_service_type_Fiber optic'].value_counts()[1], no_churn['internet_service_type_Fiber optic'].value_counts()[0]]], index=index, columns=columns)\n",
    "fiber_observed"
   ]
  },
  {
   "cell_type": "code",
   "execution_count": 18,
   "id": "ef60f6d2",
   "metadata": {},
   "outputs": [
    {
     "name": "stdout",
     "output_type": "stream",
     "text": [
      "Observed\n",
      "\n",
      "[[ 716  330]\n",
      " [ 982 1909]]\n",
      "---\n",
      "Expected\n",
      "\n",
      "[[ 451.13233426  594.86766574]\n",
      " [1246.86766574 1644.13233426]]\n",
      "---\n",
      "\n",
      "chi^2 = 370.9722\n",
      "p     = 0.0000\n",
      "We can reject the null hypothesis\n"
     ]
    }
   ],
   "source": [
    "fiber_chi2, fiber_p, fiber_degf, fiber_expected = stats.chi2_contingency(fiber_observed)\n",
    "\n",
    "print('Observed\\n')\n",
    "print(fiber_observed.values)\n",
    "print('---\\nExpected\\n')\n",
    "print(fiber_expected)\n",
    "print('---\\n')\n",
    "print(f'chi^2 = {fiber_chi2:.4f}')\n",
    "print(f'p     = {fiber_p:.4f}')\n",
    "if fiber_p < alpha:\n",
    "      print('We can reject the null hypothesis')\n",
    "else:\n",
    "    print('We fail to reject the null hypothesis')"
   ]
  },
  {
   "cell_type": "markdown",
   "id": "7aacbe41",
   "metadata": {},
   "source": [
    "Chi-squared tests for all of the plots above were conducted confirming the visual hypotheses of factors that increased churn, reduced churn, and did not matter."
   ]
  },
  {
   "cell_type": "markdown",
   "id": "58fac228",
   "metadata": {},
   "source": [
    "---"
   ]
  },
  {
   "cell_type": "markdown",
   "id": "503baf5a",
   "metadata": {},
   "source": [
    "## Predicting Churn"
   ]
  },
  {
   "cell_type": "code",
   "execution_count": 22,
   "id": "ba774b1b",
   "metadata": {},
   "outputs": [],
   "source": [
    "# Import libraries for modeling\n",
    "\n",
    "from sklearn.preprocessing import LabelEncoder\n",
    "from sklearn.preprocessing import MinMaxScaler\n",
    "\n",
    "from sklearn.model_selection import train_test_split\n",
    "\n",
    "from sklearn.ensemble import RandomForestClassifier\n",
    "from sklearn.neighbors import KNeighborsClassifier\n",
    "from sklearn.metrics import confusion_matrix\n",
    "from sklearn.linear_model import LogisticRegression\n",
    "from sklearn.metrics import classification_report, recall_score\n",
    "from sklearn.tree import DecisionTreeClassifier\n",
    "from sklearn.metrics import f1_score\n"
   ]
  },
  {
   "cell_type": "code",
   "execution_count": 25,
   "id": "3b1ffc93",
   "metadata": {},
   "outputs": [],
   "source": [
    "features = ['senior_citizen', 'monthly_charges', 'tenure', 'paperless_billing_encoded', 'internet_service_type_Fiber optic', 'payment_type_Electronic check']\n",
    "target = ['churn_encoded']\n",
    "X_train, y_train, X_validate, y_validate, X_test, y_test = feature_target_selector(features, target)"
   ]
  },
  {
   "cell_type": "code",
   "execution_count": 23,
   "id": "76ade5c8",
   "metadata": {},
   "outputs": [],
   "source": [
    "# Split data for modeling\n",
    "\n",
    "def feature_target_selector(features, target, train=telco_train, validate=telco_validate, test=telco_test):\n",
    "    X_train = train[features]\n",
    "    y_train = train[target]\n",
    "    X_validate = validate[features]\n",
    "    y_validate = validate[target]\n",
    "    X_test = test[features]\n",
    "    y_test = test[target]\n",
    "    return X_train, y_train, X_validate, y_validate, X_test, y_test"
   ]
  },
  {
   "cell_type": "markdown",
   "id": "87aae200",
   "metadata": {},
   "source": [
    "### Baseline\n",
    "\n",
    "Most customers do not churn, so our baseline model predicts nobody will ever churn (churn=0, 100%)"
   ]
  },
  {
   "cell_type": "code",
   "execution_count": 26,
   "id": "ca5b02e9",
   "metadata": {},
   "outputs": [
    {
     "data": {
      "text/html": [
       "<div>\n",
       "<style scoped>\n",
       "    .dataframe tbody tr th:only-of-type {\n",
       "        vertical-align: middle;\n",
       "    }\n",
       "\n",
       "    .dataframe tbody tr th {\n",
       "        vertical-align: top;\n",
       "    }\n",
       "\n",
       "    .dataframe thead th {\n",
       "        text-align: right;\n",
       "    }\n",
       "</style>\n",
       "<table border=\"1\" class=\"dataframe\">\n",
       "  <thead>\n",
       "    <tr style=\"text-align: right;\">\n",
       "      <th>baseline</th>\n",
       "      <th>0</th>\n",
       "    </tr>\n",
       "    <tr>\n",
       "      <th>actual</th>\n",
       "      <th></th>\n",
       "    </tr>\n",
       "  </thead>\n",
       "  <tbody>\n",
       "    <tr>\n",
       "      <th>0</th>\n",
       "      <td>1239</td>\n",
       "    </tr>\n",
       "    <tr>\n",
       "      <th>1</th>\n",
       "      <td>449</td>\n",
       "    </tr>\n",
       "  </tbody>\n",
       "</table>\n",
       "</div>"
      ],
      "text/plain": [
       "baseline     0\n",
       "actual        \n",
       "0         1239\n",
       "1          449"
      ]
     },
     "execution_count": 26,
     "metadata": {},
     "output_type": "execute_result"
    }
   ],
   "source": [
    "evaluations = pd.DataFrame({\"actual\": y_validate.churn_encoded})\n",
    "evaluations[\"baseline\"] = 0\n",
    "matrix = pd.crosstab(evaluations.actual, evaluations.baseline)\n",
    "matrix"
   ]
  },
  {
   "cell_type": "code",
   "execution_count": 60,
   "id": "7642e205",
   "metadata": {},
   "outputs": [
    {
     "data": {
      "text/plain": [
       "0.7340047393364929"
      ]
     },
     "execution_count": 60,
     "metadata": {},
     "output_type": "execute_result"
    }
   ],
   "source": [
    "baseline_accuracy = (1239/(1239+449))\n",
    "baseline_accuracy"
   ]
  },
  {
   "cell_type": "markdown",
   "id": "74e7d5c3",
   "metadata": {},
   "source": [
    "---"
   ]
  },
  {
   "cell_type": "markdown",
   "id": "1ef274d4",
   "metadata": {},
   "source": [
    "## Model 1: Decision Tree"
   ]
  },
  {
   "cell_type": "code",
   "execution_count": 27,
   "id": "98bc0499",
   "metadata": {},
   "outputs": [],
   "source": [
    "tree = DecisionTreeClassifier(random_state = 123, max_depth = 25)\n",
    "tree.fit(X_train, y_train)\n",
    "y_pred = tree.predict(X_train)\n",
    "y_pred_proba = tree.predict_proba(X_train)"
   ]
  },
  {
   "cell_type": "code",
   "execution_count": 28,
   "id": "dceee41b",
   "metadata": {},
   "outputs": [
    {
     "data": {
      "text/plain": [
       "array([[2891,    0],\n",
       "       [  30, 1016]])"
      ]
     },
     "execution_count": 28,
     "metadata": {},
     "output_type": "execute_result"
    }
   ],
   "source": [
    "confusion_matrix(y_train, y_pred)\n"
   ]
  },
  {
   "cell_type": "code",
   "execution_count": 32,
   "id": "365f7907",
   "metadata": {},
   "outputs": [],
   "source": [
    "# Classify predicted values\n",
    "def print_return_cm_details(y_pred, y_train=y_train):\n",
    "    true_positive_count = confusion_matrix(y_train, y_pred)[1][1]\n",
    "    print(f'True positives: {true_positive_count}')\n",
    "    false_negative_count = confusion_matrix(y_train, y_pred)[1][0]\n",
    "    print(f'False negatives: {false_negative_count}')\n",
    "    false_positive_count = confusion_matrix(y_train, y_pred)[0][1]\n",
    "    print(f'False positives: {false_positive_count}')\n",
    "    true_negative_count = confusion_matrix(y_train, y_pred)[0][0]\n",
    "    print(f'True negatives: {true_negative_count}')\n",
    "    return true_positive_count, false_negative_count, false_positive_count, true_negative_count\n"
   ]
  },
  {
   "cell_type": "code",
   "execution_count": 33,
   "id": "8e79ff7d",
   "metadata": {},
   "outputs": [
    {
     "name": "stdout",
     "output_type": "stream",
     "text": [
      "True positives: 1016\n",
      "False negatives: 30\n",
      "False positives: 0\n",
      "True negatives: 2891\n"
     ]
    }
   ],
   "source": [
    "tp, fn, fp, tn = print_return_cm_details(y_pred)"
   ]
  },
  {
   "cell_type": "code",
   "execution_count": 34,
   "id": "18f5994e",
   "metadata": {},
   "outputs": [
    {
     "name": "stdout",
     "output_type": "stream",
     "text": [
      "              precision    recall  f1-score   support\n",
      "\n",
      "           0       0.99      1.00      0.99      2891\n",
      "           1       1.00      0.97      0.99      1046\n",
      "\n",
      "    accuracy                           0.99      3937\n",
      "   macro avg       0.99      0.99      0.99      3937\n",
      "weighted avg       0.99      0.99      0.99      3937\n",
      "\n"
     ]
    }
   ],
   "source": [
    "# Assess accuracy\n",
    "\n",
    "print(classification_report(y_train, y_pred))\n"
   ]
  },
  {
   "cell_type": "code",
   "execution_count": 35,
   "id": "34594c57",
   "metadata": {},
   "outputs": [
    {
     "name": "stdout",
     "output_type": "stream",
     "text": [
      "Decision Tree training set accuracy: 0.9924\n",
      "Decision Tree training set F1: 0.9855\n",
      "Decision Tree training set Recall: 0.9713\n"
     ]
    }
   ],
   "source": [
    "print('Decision Tree training set accuracy: {:.4f}'\n",
    "     .format(tree.score(X_train, y_train)))\n",
    "\n",
    "print('Decision Tree training set F1: {:.4f}'\n",
    "     .format(f1_score(y_train, y_pred)))\n",
    "\n",
    "recall_tree = tp/(tp+fn)\n",
    "\n",
    "print('Decision Tree training set Recall: {:.4f}'\n",
    "     .format(recall_tree))"
   ]
  },
  {
   "cell_type": "markdown",
   "id": "11ee62c8",
   "metadata": {},
   "source": [
    "---"
   ]
  },
  {
   "cell_type": "markdown",
   "id": "dfc4b940",
   "metadata": {},
   "source": [
    "## Model 2: Random Forest"
   ]
  },
  {
   "cell_type": "code",
   "execution_count": 36,
   "id": "8a6804e0",
   "metadata": {},
   "outputs": [
    {
     "name": "stdout",
     "output_type": "stream",
     "text": [
      "[0.02208226 0.48739102 0.35559728 0.02309609 0.06369742 0.04813593]\n",
      "Index(['senior_citizen', 'monthly_charges', 'tenure',\n",
      "       'paperless_billing_encoded', 'internet_service_type_Fiber optic',\n",
      "       'payment_type_Electronic check'],\n",
      "      dtype='object')\n"
     ]
    }
   ],
   "source": [
    "rf = RandomForestClassifier(random_state = 123, min_samples_leaf = 1, max_depth = 20)\n",
    "rf.fit(X_train, y_train)\n",
    "print(rf.feature_importances_)\n",
    "print(X_train.columns)"
   ]
  },
  {
   "cell_type": "code",
   "execution_count": 37,
   "id": "3ffb6d0f",
   "metadata": {},
   "outputs": [
    {
     "name": "stdout",
     "output_type": "stream",
     "text": [
      "[[2887    4]\n",
      " [  24 1022]]\n"
     ]
    }
   ],
   "source": [
    "y_pred2 = rf.predict(X_train)\n",
    "y_pred2_proba = rf.predict_proba(X_train)\n",
    "print(confusion_matrix(y_train, y_pred2))"
   ]
  },
  {
   "cell_type": "code",
   "execution_count": 38,
   "id": "060c1f80",
   "metadata": {},
   "outputs": [
    {
     "name": "stdout",
     "output_type": "stream",
     "text": [
      "True positives: 1022\n",
      "False negatives: 24\n",
      "False positives: 4\n",
      "True negatives: 2887\n"
     ]
    }
   ],
   "source": [
    "tp, fn, fp, tn = print_return_cm_details(y_pred2)\n"
   ]
  },
  {
   "cell_type": "code",
   "execution_count": 39,
   "id": "dd542343",
   "metadata": {},
   "outputs": [
    {
     "name": "stdout",
     "output_type": "stream",
     "text": [
      "              precision    recall  f1-score   support\n",
      "\n",
      "           0       0.99      1.00      1.00      2891\n",
      "           1       1.00      0.98      0.99      1046\n",
      "\n",
      "    accuracy                           0.99      3937\n",
      "   macro avg       0.99      0.99      0.99      3937\n",
      "weighted avg       0.99      0.99      0.99      3937\n",
      "\n"
     ]
    }
   ],
   "source": [
    "print(classification_report(y_train, y_pred2))\n"
   ]
  },
  {
   "cell_type": "code",
   "execution_count": 41,
   "id": "fb8f2da8",
   "metadata": {},
   "outputs": [
    {
     "name": "stdout",
     "output_type": "stream",
     "text": [
      "Random Forest training set accuracy: 0.9929\n",
      "Random Forest training set F1: 0.9865\n",
      "Random Forest training set Recall: 0.9771\n"
     ]
    }
   ],
   "source": [
    "print('Random Forest training set accuracy: {:.4f}'\n",
    "     .format(rf.score(X_train, y_train)))\n",
    "\n",
    "print('Random Forest training set F1: {:.4f}'\n",
    "     .format(f1_score(y_train, y_pred2)))\n",
    "\n",
    "recall_rf = tp/(tp+fn)\n",
    "\n",
    "print('Random Forest training set Recall: {:.4f}'\n",
    "     .format(recall_rf))"
   ]
  },
  {
   "cell_type": "markdown",
   "id": "300631d6",
   "metadata": {},
   "source": [
    "---"
   ]
  },
  {
   "cell_type": "markdown",
   "id": "73ece7dd",
   "metadata": {},
   "source": [
    "## Model 3: KNN"
   ]
  },
  {
   "cell_type": "code",
   "execution_count": 42,
   "id": "55dbbf61",
   "metadata": {},
   "outputs": [],
   "source": [
    "k = math.floor(math.sqrt(X_train.shape[0]))\n"
   ]
  },
  {
   "cell_type": "code",
   "execution_count": 43,
   "id": "a315cdc9",
   "metadata": {},
   "outputs": [],
   "source": [
    "knn = KNeighborsClassifier(n_neighbors=k, weights='uniform') #n_neighbors is based on square root of number of observations\n",
    "knn.fit(X_train, y_train)\n",
    "y_pred3 = knn.predict(X_train)\n",
    "y_pred3_proba = knn.predict_proba(X_train)"
   ]
  },
  {
   "cell_type": "code",
   "execution_count": 44,
   "id": "f73758b4",
   "metadata": {},
   "outputs": [
    {
     "name": "stdout",
     "output_type": "stream",
     "text": [
      "[[2697  194]\n",
      " [ 610  436]]\n"
     ]
    }
   ],
   "source": [
    "print(confusion_matrix(y_train, y_pred3))\n"
   ]
  },
  {
   "cell_type": "code",
   "execution_count": 45,
   "id": "1d3adfd6",
   "metadata": {},
   "outputs": [
    {
     "name": "stdout",
     "output_type": "stream",
     "text": [
      "True positives: 436\n",
      "False negatives: 610\n",
      "False positives: 194\n",
      "True negatives: 2697\n"
     ]
    }
   ],
   "source": [
    "tp, fn, fp, tn = print_return_cm_details(y_pred3)\n"
   ]
  },
  {
   "cell_type": "code",
   "execution_count": 46,
   "id": "09569f39",
   "metadata": {},
   "outputs": [
    {
     "name": "stdout",
     "output_type": "stream",
     "text": [
      "              precision    recall  f1-score   support\n",
      "\n",
      "           0       0.82      0.93      0.87      2891\n",
      "           1       0.69      0.42      0.52      1046\n",
      "\n",
      "    accuracy                           0.80      3937\n",
      "   macro avg       0.75      0.67      0.70      3937\n",
      "weighted avg       0.78      0.80      0.78      3937\n",
      "\n"
     ]
    }
   ],
   "source": [
    "print(classification_report(y_train, y_pred3))\n"
   ]
  },
  {
   "cell_type": "code",
   "execution_count": 47,
   "id": "7bee74e3",
   "metadata": {},
   "outputs": [
    {
     "name": "stdout",
     "output_type": "stream",
     "text": [
      "KNN Train Accuracy: 0.7958\n",
      "KNN Train F1: 0.5203\n",
      "KNN Train Recall: 0.4168\n"
     ]
    }
   ],
   "source": [
    "print('KNN Train Accuracy: {:.4f}'\n",
    "     .format(knn.score(X_train, y_train)))\n",
    "\n",
    "print('KNN Train F1: {:.4f}'\n",
    "     .format(f1_score(y_train, y_pred3)))\n",
    "\n",
    "recall_knn = tp/(tp+fn)\n",
    "\n",
    "print('KNN Train Recall: {:.4f}'\n",
    "     .format(recall_knn))"
   ]
  },
  {
   "cell_type": "markdown",
   "id": "b52b0760",
   "metadata": {},
   "source": [
    "---"
   ]
  },
  {
   "cell_type": "markdown",
   "id": "6b4e190a",
   "metadata": {},
   "source": [
    "## Model 4: Logistic Regression"
   ]
  },
  {
   "cell_type": "code",
   "execution_count": 48,
   "id": "542f73a0",
   "metadata": {},
   "outputs": [
    {
     "name": "stdout",
     "output_type": "stream",
     "text": [
      "Coefficient: \n",
      " [[ 0.53974434  0.00978369 -0.04481712  0.49239456  0.89988463  0.53167343]]\n",
      "Intercept: \n",
      " [-1.54586777]\n"
     ]
    }
   ],
   "source": [
    "logr = LogisticRegression(random_state=123, solver='lbfgs')\n",
    "logr.fit(X_train, y_train)\n",
    "print('Coefficient: \\n', logr.coef_)\n",
    "print('Intercept: \\n', logr.intercept_)"
   ]
  },
  {
   "cell_type": "code",
   "execution_count": 49,
   "id": "73ce359a",
   "metadata": {},
   "outputs": [],
   "source": [
    "y_pred4 = logr.predict(X_train)\n",
    "y_pred4_proba = logr.predict_proba(X_train)"
   ]
  },
  {
   "cell_type": "code",
   "execution_count": 50,
   "id": "2520a282",
   "metadata": {},
   "outputs": [
    {
     "data": {
      "text/plain": [
       "array([[2640,  251],\n",
       "       [ 563,  483]])"
      ]
     },
     "execution_count": 50,
     "metadata": {},
     "output_type": "execute_result"
    }
   ],
   "source": [
    "confusion_matrix(y_train, y_pred4)\n"
   ]
  },
  {
   "cell_type": "code",
   "execution_count": 51,
   "id": "8dc529cf",
   "metadata": {},
   "outputs": [
    {
     "name": "stdout",
     "output_type": "stream",
     "text": [
      "              precision    recall  f1-score   support\n",
      "\n",
      "           0       0.82      0.91      0.87      2891\n",
      "           1       0.66      0.46      0.54      1046\n",
      "\n",
      "    accuracy                           0.79      3937\n",
      "   macro avg       0.74      0.69      0.70      3937\n",
      "weighted avg       0.78      0.79      0.78      3937\n",
      "\n"
     ]
    }
   ],
   "source": [
    "print(classification_report(y_train, y_pred4))\n"
   ]
  },
  {
   "cell_type": "code",
   "execution_count": 52,
   "id": "f63a5e93",
   "metadata": {},
   "outputs": [
    {
     "name": "stdout",
     "output_type": "stream",
     "text": [
      "Logistic Regression training Accuracy: 0.7932\n",
      "Logistic Regression Training F1: 0.5427\n",
      "Logistic Regression training Recall: 0.4168\n"
     ]
    }
   ],
   "source": [
    "print('Logistic Regression training Accuracy: {:.4f}'\n",
    "     .format(logr.score(X_train, y_train)))\n",
    "\n",
    "print('Logistic Regression Training F1: {:.4f}'\n",
    "     .format(f1_score(y_train, y_pred4)))\n",
    "\n",
    "recall_logr = tp/(tp+fn)\n",
    "\n",
    "print('Logistic Regression training Recall: {:.4f}'\n",
    "     .format(recall_logr))"
   ]
  },
  {
   "cell_type": "markdown",
   "id": "812e840e",
   "metadata": {},
   "source": [
    "---"
   ]
  },
  {
   "cell_type": "markdown",
   "id": "19f3fbdf",
   "metadata": {},
   "source": [
    "## Validate"
   ]
  },
  {
   "cell_type": "code",
   "execution_count": 53,
   "id": "4e29c9e9",
   "metadata": {},
   "outputs": [
    {
     "name": "stdout",
     "output_type": "stream",
     "text": [
      "Model 1: Decision Tree\n",
      "Accuracy: 0.7216\n",
      "[[1003  236]\n",
      " [ 234  215]]\n",
      "              precision    recall  f1-score   support\n",
      "\n",
      "           0       0.81      0.81      0.81      1239\n",
      "           1       0.48      0.48      0.48       449\n",
      "\n",
      "    accuracy                           0.72      1688\n",
      "   macro avg       0.64      0.64      0.64      1688\n",
      "weighted avg       0.72      0.72      0.72      1688\n",
      "\n"
     ]
    }
   ],
   "source": [
    "print(\"Model 1: Decision Tree\")\n",
    "\n",
    "print('Accuracy: {:.4f}'.format(tree.score(X_validate, y_validate)))\n",
    "\n",
    "y_pred_val = tree.predict(X_validate)\n",
    "\n",
    "print(confusion_matrix(y_validate, y_pred_val))\n",
    "\n",
    "print(classification_report(y_validate, y_pred_val))"
   ]
  },
  {
   "cell_type": "code",
   "execution_count": 54,
   "id": "91aa33dc",
   "metadata": {},
   "outputs": [
    {
     "name": "stdout",
     "output_type": "stream",
     "text": [
      "Model 2: Random Forest\n",
      "Accuracy: 0.7713\n",
      "[[1079  160]\n",
      " [ 226  223]]\n",
      "              precision    recall  f1-score   support\n",
      "\n",
      "           0       0.83      0.87      0.85      1239\n",
      "           1       0.58      0.50      0.54       449\n",
      "\n",
      "    accuracy                           0.77      1688\n",
      "   macro avg       0.70      0.68      0.69      1688\n",
      "weighted avg       0.76      0.77      0.77      1688\n",
      "\n"
     ]
    }
   ],
   "source": [
    "print(\"Model 2: Random Forest\")\n",
    "\n",
    "print('Accuracy: {:.4f}'.format(rf.score(X_validate, y_validate)))\n",
    "\n",
    "y_pred_rf = rf.predict(X_validate)\n",
    "\n",
    "print(confusion_matrix(y_validate, y_pred_rf))\n",
    "\n",
    "print(classification_report(y_validate, y_pred_rf))"
   ]
  },
  {
   "cell_type": "code",
   "execution_count": 55,
   "id": "812c40eb",
   "metadata": {},
   "outputs": [
    {
     "name": "stdout",
     "output_type": "stream",
     "text": [
      "Model 3: K-Nearest Neighbors\n",
      "Accuracy: 0.7909\n",
      "[[1142   97]\n",
      " [ 256  193]]\n",
      "              precision    recall  f1-score   support\n",
      "\n",
      "           0       0.82      0.92      0.87      1239\n",
      "           1       0.67      0.43      0.52       449\n",
      "\n",
      "    accuracy                           0.79      1688\n",
      "   macro avg       0.74      0.68      0.69      1688\n",
      "weighted avg       0.78      0.79      0.77      1688\n",
      "\n"
     ]
    }
   ],
   "source": [
    "print(\"Model 3: K-Nearest Neighbors\")\n",
    "\n",
    "print('Accuracy: {:.4f}'.format(knn.score(X_validate, y_validate)))\n",
    "\n",
    "y_pred_knn = knn.predict(X_validate)\n",
    "\n",
    "print(confusion_matrix(y_validate, y_pred_knn))\n",
    "\n",
    "print(classification_report(y_validate, y_pred_knn))"
   ]
  },
  {
   "cell_type": "code",
   "execution_count": 56,
   "id": "7fc447f6",
   "metadata": {},
   "outputs": [
    {
     "name": "stdout",
     "output_type": "stream",
     "text": [
      "Model 4: Logistic Regression\n",
      "Accuracy: 0.7927\n",
      "[[1117  122]\n",
      " [ 228  221]]\n",
      "              precision    recall  f1-score   support\n",
      "\n",
      "           0       0.83      0.90      0.86      1239\n",
      "           1       0.64      0.49      0.56       449\n",
      "\n",
      "    accuracy                           0.79      1688\n",
      "   macro avg       0.74      0.70      0.71      1688\n",
      "weighted avg       0.78      0.79      0.78      1688\n",
      "\n"
     ]
    }
   ],
   "source": [
    "print(\"Model 4: Logistic Regression\")\n",
    "\n",
    "print('Accuracy: {:.4f}'.format(logr.score(X_validate, y_validate)))\n",
    "\n",
    "y_pred_lr = logr.predict(X_validate)\n",
    "\n",
    "print(confusion_matrix(y_validate, y_pred_lr))\n",
    "\n",
    "print(classification_report(y_validate, y_pred_lr))"
   ]
  },
  {
   "cell_type": "markdown",
   "id": "9c56717c",
   "metadata": {},
   "source": [
    "---"
   ]
  },
  {
   "cell_type": "markdown",
   "id": "360b9e19",
   "metadata": {},
   "source": [
    "## Test"
   ]
  },
  {
   "cell_type": "markdown",
   "id": "3bb3d39d",
   "metadata": {},
   "source": [
    "Our logistic regression model performed best so we will test it on unseen data"
   ]
  },
  {
   "cell_type": "code",
   "execution_count": 58,
   "id": "52af3565",
   "metadata": {},
   "outputs": [
    {
     "name": "stdout",
     "output_type": "stream",
     "text": [
      "Test Performance: [Logistic Regression\n",
      "Accuracy: 0.8003\n",
      "[[940  93]\n",
      " [188 186]]\n",
      "              precision    recall  f1-score   support\n",
      "\n",
      "           0       0.83      0.91      0.87      1033\n",
      "           1       0.67      0.50      0.57       374\n",
      "\n",
      "    accuracy                           0.80      1407\n",
      "   macro avg       0.75      0.70      0.72      1407\n",
      "weighted avg       0.79      0.80      0.79      1407\n",
      "\n"
     ]
    }
   ],
   "source": [
    "print(\"Test Performance: [Logistic Regression\")\n",
    "\n",
    "print('Accuracy: {:.4f}'.format(logr.score(X_test, y_test)))\n",
    "\n",
    "y_pred_test = logr.predict(X_test)\n",
    "\n",
    "print(confusion_matrix(y_test, y_pred_test))\n",
    "\n",
    "print(classification_report(y_test, y_pred_test))"
   ]
  },
  {
   "cell_type": "markdown",
   "id": "5969ffac",
   "metadata": {},
   "source": [
    "---"
   ]
  },
  {
   "cell_type": "markdown",
   "id": "02662eb0",
   "metadata": {},
   "source": [
    "## Conclusion"
   ]
  },
  {
   "cell_type": "markdown",
   "id": "b08fc189",
   "metadata": {},
   "source": [
    "### Summary\n",
    "\n",
    "- The models were effective increasing churn prediction accuracy to 83% from a baseline of 73%.\n",
    "- Senior citizen, fiber opric internet, and paperless billing were strong predictors of churn\n",
    "- One year contracts, two year contracts, and not having internet were strong predictors for retention\n",
    "- Gender and phone service didn't matter and streaming tv doesn't matter much\n",
    "\n",
    "### Recommendations\n",
    "- Offer a senior discount to reduce churn in this population\n",
    "- Determine why fiber optic customers churn so much?\n",
    "    - Cost too high?\n",
    "    - Problem with fiber service?\n",
    "    - Address underlying issues to reduce churn in this population (reduce cost of service or improve service as appropriate)\n",
    "\n",
    "### Next Steps\n",
    "- Use GridsearchCV and RandomSearchCV to test different hyperparameters for each model to see if it can improve accuracy.\n",
    "- Since our original training data was unbalanced, synthetic minority over-sampling (SMOTE) may be useful\n",
    "- Consider feature enginineering of combining columns and see if it increases accuracy.\n",
    "- Experiment with different predictor columns to see if accuracy can be improved.\n",
    "- Consider additional model types or algorithms."
   ]
  },
  {
   "cell_type": "code",
   "execution_count": null,
   "id": "346b5444",
   "metadata": {},
   "outputs": [],
   "source": []
  }
 ],
 "metadata": {
  "kernelspec": {
   "display_name": "Python 3",
   "language": "python",
   "name": "python3"
  },
  "language_info": {
   "codemirror_mode": {
    "name": "ipython",
    "version": 3
   },
   "file_extension": ".py",
   "mimetype": "text/x-python",
   "name": "python",
   "nbconvert_exporter": "python",
   "pygments_lexer": "ipython3",
   "version": "3.8.8"
  }
 },
 "nbformat": 4,
 "nbformat_minor": 5
}
